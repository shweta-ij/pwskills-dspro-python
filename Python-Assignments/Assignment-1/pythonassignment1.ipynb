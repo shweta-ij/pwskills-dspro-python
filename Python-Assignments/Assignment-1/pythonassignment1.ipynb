{
 "cells": [
  {
   "cell_type": "code",
   "execution_count": null,
   "metadata": {},
   "outputs": [],
   "source": [
    "# Python assignment 1:\n",
    "# python basic assignment :\n"
   ]
  },
  {
   "cell_type": "code",
   "execution_count": 1,
   "metadata": {},
   "outputs": [
    {
     "name": "stdout",
     "output_type": "stream",
     "text": [
      "value of x is:  10 and  value of y is :  40\n",
      "New value of x and y after swapping numbers is :  40 10\n"
     ]
    }
   ],
   "source": [
    "#q1)swaping two integer numbers without using 3rd variable:\n",
    "x=10\n",
    "y=40\n",
    "print(\"value of x is: \",x  ,\"and  value of y is : \",y)\n",
    "x,y=y,x\n",
    "print(\"New value of x and y after swapping numbers is : \",x,y)"
   ]
  },
  {
   "cell_type": "code",
   "execution_count": 6,
   "metadata": {},
   "outputs": [
    {
     "name": "stdout",
     "output_type": "stream",
     "text": [
      "Enter length of a rectangle: \n",
      "Entered length of a rectangle: 10\n",
      "Enter width of a rectangle: \n",
      "Entered width of a rectangle: 15\n",
      "area of rectangle is %.2f :  150\n"
     ]
    }
   ],
   "source": [
    "#q2)#Area of rectangle :\n",
    "print(\"Enter length of a rectangle: \")\n",
    "length = int(input())\n",
    "print(\"Entered length of a rectangle: \"+str(length))\n",
    "print(\"Enter width of a rectangle: \")\n",
    "width = int(input())\n",
    "print(\"Entered width of a rectangle: \"+str(width))\n",
    "area = (length * width)\n",
    "print(\"area of rectangle is %.2f : \", area)"
   ]
  },
  {
   "cell_type": "code",
   "execution_count": 9,
   "metadata": {},
   "outputs": [
    {
     "name": "stdout",
     "output_type": "stream",
     "text": [
      "Enter temprature in celsius: \n",
      "Entered temprature in celsius is: 24\n",
      "Temprature in fahrenheit is :  75.2\n"
     ]
    }
   ],
   "source": [
    "#q3)temprature conversion from Celsius to Fahrenheit:\n",
    "print(\"Enter temprature in celsius: \")\n",
    "celsius = int(input())\n",
    "print(\"Entered temprature in celsius is: \"+str(celsius))\n",
    "fahrenheit = (1.8 * celsius) + 32\n",
    "print(\"Temprature in fahrenheit is : \", fahrenheit)"
   ]
  },
  {
   "cell_type": "code",
   "execution_count": null,
   "metadata": {},
   "outputs": [],
   "source": []
  }
 ],
 "metadata": {
  "kernelspec": {
   "display_name": "Python 3",
   "language": "python",
   "name": "python3"
  },
  "language_info": {
   "codemirror_mode": {
    "name": "ipython",
    "version": 3
   },
   "file_extension": ".py",
   "mimetype": "text/x-python",
   "name": "python",
   "nbconvert_exporter": "python",
   "pygments_lexer": "ipython3",
   "version": "3.10.4"
  },
  "orig_nbformat": 4
 },
 "nbformat": 4,
 "nbformat_minor": 2
}
